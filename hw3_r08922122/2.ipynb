{
 "cells": [
  {
   "cell_type": "code",
   "execution_count": 1,
   "metadata": {},
   "outputs": [],
   "source": [
    "import numpy as np\n",
    "import cv2\n",
    "import matplotlib.pyplot as plt"
   ]
  },
  {
   "cell_type": "code",
   "execution_count": 2,
   "metadata": {},
   "outputs": [],
   "source": [
    "def feature_compare(train_feature, sample_feature):\n",
    "    # train feature: 36, 10\n",
    "    # sample feature: 1, 10\n",
    "    diff = train_feature - sample_feature\n",
    "    #print(diff)\n",
    "    abs_diff = np.abs(diff)\n",
    "    #print(abs_diff)\n",
    "    sum_diff = np.sum(abs_diff, axis=1).reshape(train_feature.shape[0], 1)\n",
    "    #print(sum_diff)\n",
    "    prediction = int(np.argmin(sum_diff, axis=0))\n",
    "    return prediction\n",
    "    #print(prediction)"
   ]
  },
  {
   "cell_type": "code",
   "execution_count": 3,
   "metadata": {},
   "outputs": [],
   "source": [
    "def spatial_moment(image, m, n):\n",
    "    K, J = image.shape\n",
    "    total = 0\n",
    "    for x in range(J):\n",
    "        for y in range(K):\n",
    "            if image[y][x] == 0:\n",
    "                total += x**m * y**n\n",
    "                \n",
    "    return total/(J**m + K**n)"
   ]
  },
  {
   "cell_type": "code",
   "execution_count": 4,
   "metadata": {},
   "outputs": [],
   "source": [
    "# histogram\n",
    "def histogram(image):\n",
    "    # a list with zeros\n",
    "    gray_scale_count=[0]*256\n",
    "    for i in range(image.shape[0]):\n",
    "        for j in range(image.shape[1]):\n",
    "            gray_scale_count[image[i][j]]=gray_scale_count[image[i][j]]+1\n",
    "    \n",
    "    index = np.arange(256)\n",
    "    plt.bar(index,gray_scale_count)\n",
    "    plt.grid(True)\n",
    "    plt.show()"
   ]
  },
  {
   "cell_type": "code",
   "execution_count": 5,
   "metadata": {},
   "outputs": [],
   "source": [
    "# binarize image: \n",
    "#     <= threshold: 0\n",
    "#     >  threshold: 255\n",
    "def threshold_binarize(image, threshold):\n",
    "    result_image = np.zeros(image.shape, dtype=np.uint8)\n",
    "    \n",
    "    for i in range(image.shape[0]):\n",
    "        for j in range(image.shape[1]):\n",
    "            if image[i][j] > threshold : result_image[i][j]=255\n",
    "\n",
    "    return result_image"
   ]
  },
  {
   "cell_type": "code",
   "execution_count": 6,
   "metadata": {},
   "outputs": [],
   "source": [
    "# binary image\n",
    "def binarize(image):\n",
    "    answer=np.zeros(image.shape, dtype=np.uint8)\n",
    "    for i in range(image.shape[0]):\n",
    "        for j in range(image.shape[1]):\n",
    "            if image[i][j]>127:\n",
    "                answer[i][j]=255\n",
    "            else:\n",
    "                answer[i][j]=0\n",
    "    return answer"
   ]
  },
  {
   "cell_type": "code",
   "execution_count": 7,
   "metadata": {},
   "outputs": [],
   "source": [
    "# inverter of 0-255\n",
    "def inverter(image):\n",
    "    result = np.zeros(image.shape, dtype=np.uint8)\n",
    "    for i in range(image.shape[0]):\n",
    "        for j in range(image.shape[1]):\n",
    "            if image[i][j] == 0:\n",
    "                result[i][j] = 255\n",
    "    \n",
    "    return result"
   ]
  },
  {
   "cell_type": "code",
   "execution_count": 8,
   "metadata": {},
   "outputs": [],
   "source": [
    "def find_centroid(label_image,label_index):\n",
    "    row_centroid=0\n",
    "    col_centroid=0\n",
    "    num_pixel=0\n",
    "    \n",
    "    for i in range(label_image.shape[0]):\n",
    "        for j in range(label_image.shape[1]):\n",
    "            if label_index==label_image[i][j]:\n",
    "                row_centroid=row_centroid+i\n",
    "                col_centroid=col_centroid+j\n",
    "                num_pixel=num_pixel+1\n",
    "           \n",
    "    row_centroid=int(row_centroid/num_pixel)\n",
    "    col_centroid=int(col_centroid/num_pixel)\n",
    "    \n",
    "    return row_centroid,col_centroid"
   ]
  },
  {
   "cell_type": "code",
   "execution_count": 9,
   "metadata": {},
   "outputs": [],
   "source": [
    "# find the mean\n",
    "# case1: if both are not zeros, return the min of the two numbers\n",
    "# case2: if one of the two numbers is zero, return the nonzero one's value\n",
    "# case3: if both of the two numbers are zero, return 0\n",
    "\n",
    "def mini(x,y):\n",
    "    if x==0 and y==0:\n",
    "        return 0\n",
    "    elif x!=0 and y==0:\n",
    "        return x\n",
    "    elif x==0 and y!=0:\n",
    "        return y\n",
    "    else:\n",
    "        return min(x,y)"
   ]
  },
  {
   "cell_type": "code",
   "execution_count": 10,
   "metadata": {},
   "outputs": [],
   "source": [
    "# find the position of corner\n",
    "def find_position_of_corner(label_matrix,target_label):\n",
    "    # get the top corner\n",
    "    top_flag=True\n",
    "    for i in range(label_matrix.shape[0]):\n",
    "        if top_flag:\n",
    "            for j in range(label_matrix.shape[1]):\n",
    "                if(label_matrix[i][j]==target_label):\n",
    "                    top=i\n",
    "                    top_flag=False\n",
    "        else:\n",
    "            break\n",
    "            \n",
    "    # get the buttom corner\n",
    "    buttom_flag=True\n",
    "    for i in range(label_matrix.shape[0]-1,-1,-1):\n",
    "        if buttom_flag:\n",
    "            for j in range(label_matrix.shape[1]):\n",
    "                if(label_matrix[i][j]==target_label):\n",
    "                    buttom=i\n",
    "                    buttom_flag=False\n",
    "        else:\n",
    "            break\n",
    "            \n",
    "    # get the left corner\n",
    "    left_flag=True\n",
    "    for i in range(label_matrix.shape[1]):\n",
    "        if left_flag:\n",
    "            for j in range(label_matrix.shape[0]):\n",
    "                if(label_matrix[j][i]==target_label):\n",
    "                    left=i\n",
    "                    left_flag=False\n",
    "        else:\n",
    "            break\n",
    "    \n",
    "    # get the right corner\n",
    "    right_flag=True\n",
    "    for i in range(label_matrix.shape[1]-1,-1,-1):\n",
    "        if right_flag:\n",
    "            for j in range(label_matrix.shape[0]):\n",
    "                if(label_matrix[j][i]==target_label):\n",
    "                    right=i\n",
    "                    right_flag=False\n",
    "        else:\n",
    "            break\n",
    "    \n",
    "    return top,buttom,left,right\n",
    "    "
   ]
  },
  {
   "cell_type": "code",
   "execution_count": 11,
   "metadata": {},
   "outputs": [],
   "source": [
    "# connected components\n",
    "def connected_components(image):\n",
    "    # binarize \n",
    "    binary_image = binarize(image)\n",
    "    binary_image = inverter(binary_image)   # only deal with white part\n",
    "    \n",
    "    \n",
    "    print(\"initialize a unique number to each 255-pixel...\")\n",
    "    # initialize a unique number to each 255-pixel\n",
    "    assigned_label=1\n",
    "    label_image = np.zeros(shape=(image.shape[0],image.shape[1]))\n",
    "    for i in range(image.shape[0]):\n",
    "        for j in range(image.shape[1]):\n",
    "            if(binary_image[i][j]==255):\n",
    "                label_image[i][j]=assigned_label\n",
    "                assigned_label=assigned_label+1\n",
    "          \n",
    "    \n",
    "    print(\"finding component...\")\n",
    "    # algo for finding ever component in a image\n",
    "    changed = True\n",
    "    while changed:\n",
    "        changed=False\n",
    "        #top_down\n",
    "        for i in range(image.shape[0]):\n",
    "            for j in range(image.shape[1]):\n",
    "                if label_image[i][j] != 0:\n",
    "                    # corner cases\n",
    "                    if i == 0 and j == 0:\n",
    "                        minimum = 0\n",
    "                    # column border cases\n",
    "                    elif i == 0:\n",
    "                        minimum = label_image[i][j-1]\n",
    "                    # row border cases\n",
    "                    elif j == 0:\n",
    "                        minimum = label_image[i-1][j]\n",
    "                    # normal cases\n",
    "                    else:\n",
    "                        minimum = mini(label_image[i-1][j],label_image[i][j-1])\n",
    "                        \n",
    "                    if minimum != 0 and label_image[i][j] > minimum:\n",
    "                        label_image[i][j] = minimum\n",
    "                        changed = True\n",
    "\n",
    "        #buttom_up\n",
    "        for i in range(image.shape[0]-1,-1,-1):\n",
    "            for j in range(image.shape[1]-1,-1,-1):\n",
    "                if label_image[i][j] != 0:\n",
    "                    if i == image.shape[0]-1 and j == image.shape[1]-1:\n",
    "                        minimum = 0\n",
    "                    elif i == image.shape[0]-1:\n",
    "                        minimum = label_image[i][j+1]\n",
    "                    elif j == image.shape[1]-1:\n",
    "                        minimum = label_image[i+1][j]\n",
    "                    else:\n",
    "                        minimum = mini(label_image[i+1][j],label_image[i][j+1])\n",
    "                        \n",
    "                    if minimum !=0 and label_image[i][j] > minimum:\n",
    "                        label_image[i][j] = minimum\n",
    "                        changed = True\n",
    "        \n",
    "    max_label = int(np.amax(label_image))\n",
    "        \n",
    "    print(\"counting component size...\")\n",
    "    # count each component size\n",
    "    count_component_size = [0] * (max_label+1)\n",
    "    for i in range(image.shape[0]):\n",
    "        for j in range(image.shape[1]):\n",
    "            count_component_size[int(label_image[i][j])] += 1\n",
    "        \n",
    "    #list the compponent label with consist of at least 500 pixel\n",
    "    component_pixel_500 = []\n",
    "    for i in range(1,max_label+1):\n",
    "        if count_component_size[i] >= 400:\n",
    "            component_pixel_500.append(i)\n",
    "                \n",
    "    print(\"finding the position of the rectangle's corner...\")\n",
    "    # rectangle the component which having a least 500 pixels, and get the position of the \n",
    "    # rectangle's corner\n",
    "    corner_position = np.zeros(shape = (4,len(component_pixel_500)))\n",
    "    # the sequence of the 4  corner: top down right left\n",
    "    for i in range(len(component_pixel_500)):\n",
    "        target_label = component_pixel_500[i]\n",
    "        top,buttom,left,right = find_position_of_corner(label_image,target_label)\n",
    "        corner_position[0][i] = top\n",
    "        corner_position[1][i] = buttom\n",
    "        corner_position[2][i] = left\n",
    "        corner_position[3][i] = right\n",
    "        \n",
    "    \n",
    "    # turn gary image into 3d-color one\n",
    "    color_image=cv2.cvtColor(binary_image,cv2.COLOR_GRAY2RGB)\n",
    "        \n",
    "    print(\"drawing...\")\n",
    "    for i in range(len(component_pixel_500)):\n",
    "        top=int(corner_position[0][i])\n",
    "        buttom=int(corner_position[1][i])\n",
    "        left=int(corner_position[2][i])\n",
    "        right=int(corner_position[3][i])\n",
    "        color_image=cv2.rectangle(color_image, (left, top), (right, buttom), (255, 0, 0), 2)\n",
    "            \n",
    "        row_centroid,col_centroid=find_centroid(label_image,component_pixel_500[i])\n",
    "            \n",
    "        \n",
    "        #x_mid=int((top+buttom)/2)\n",
    "        #y_mid=int((left+right)/2)\n",
    "                    \n",
    "        color_image=cv2.line(color_image, (col_centroid,row_centroid+5), (col_centroid,row_centroid-5), (0, 0, 255), 2)\n",
    "        color_image=cv2.line(color_image, (col_centroid+5,row_centroid), (col_centroid-5,row_centroid), (0, 0, 255), 2)\n",
    "        \n",
    "        \n",
    "    return color_image, corner_position"
   ]
  },
  {
   "cell_type": "code",
   "execution_count": 12,
   "metadata": {},
   "outputs": [],
   "source": [
    "train_img = cv2.imread(\"TrainingSet.jpg\", cv2.IMREAD_GRAYSCALE)\n",
    "sample2 = cv2.imread(\"sample2.jpg\", cv2.IMREAD_GRAYSCALE)\n",
    "sample3 = cv2.imread(\"sample3.jpg\", cv2.IMREAD_GRAYSCALE)\n",
    "sample4 = cv2.imread(\"sample4.jpg\", cv2.IMREAD_GRAYSCALE)"
   ]
  },
  {
   "cell_type": "code",
   "execution_count": 13,
   "metadata": {
    "scrolled": false
   },
   "outputs": [
    {
     "name": "stdout",
     "output_type": "stream",
     "text": [
      "initialize a unique number to each 255-pixel...\n",
      "finding component...\n",
      "counting component size...\n",
      "finding the position of the rectangle's corner...\n",
      "drawing...\n"
     ]
    }
   ],
   "source": [
    "result_train, coordinate_train = connected_components(train_img)"
   ]
  },
  {
   "cell_type": "code",
   "execution_count": 14,
   "metadata": {
    "scrolled": true
   },
   "outputs": [],
   "source": [
    "cv2.imshow('My Image', result_train)\n",
    "cv2.waitKey(0)\n",
    "cv2.destroyAllWindows()"
   ]
  },
  {
   "cell_type": "code",
   "execution_count": 15,
   "metadata": {},
   "outputs": [
    {
     "data": {
      "text/plain": [
       "True"
      ]
     },
     "execution_count": 15,
     "metadata": {},
     "output_type": "execute_result"
    }
   ],
   "source": [
    "cv2.imwrite(\"bounding box.jpg\", result_train)"
   ]
  },
  {
   "cell_type": "code",
   "execution_count": 17,
   "metadata": {},
   "outputs": [],
   "source": [
    "coordinate_train = coordinate_train.astype(int)"
   ]
  },
  {
   "cell_type": "code",
   "execution_count": 18,
   "metadata": {},
   "outputs": [
    {
     "name": "stdout",
     "output_type": "stream",
     "text": [
      "{0: 'A', 1: 'X', 2: 'M', 3: 'Y', 4: 'B', 5: 'N', 6: 'Z', 7: 'C', 8: 'O', 9: '0', 10: 'D', 11: 'P', 12: '1', 13: 'E', 14: 'Q', 15: '2', 16: 'F', 17: 'R', 18: '3', 19: 'G', 20: 'S', 21: '4', 22: 'H', 23: 'T', 24: '5', 25: 'I', 26: 'U', 27: '6', 28: 'J', 29: '7', 30: 'V', 31: 'K', 32: '8', 33: 'W', 34: 'L', 35: '9'}\n"
     ]
    }
   ],
   "source": [
    "FEATURE_LENGTH = 10\n",
    "train_seq = \"AXMYBNZCO0DP1EQ2FR3GS4HT5IU6J7VK8WL9\"\n",
    "parameter = {0:[1,0,0,1],1:[2,0,0,1],2:[4,0,0,1],\n",
    "             3:[8,0,0,1],4:[12,0,0,1],5:[2,0,0,2],\n",
    "             6:[3,0,0,3],7:[4,0,0,4],8:[8,0,0,8],\n",
    "             9:[12,0,0,12]}\n",
    "index2char = {}\n",
    "for i in range(len(train_seq)):\n",
    "    index2char[i] = train_seq[i]\n",
    "print(index2char)"
   ]
  },
  {
   "cell_type": "code",
   "execution_count": null,
   "metadata": {},
   "outputs": [],
   "source": []
  },
  {
   "cell_type": "code",
   "execution_count": 19,
   "metadata": {
    "scrolled": true
   },
   "outputs": [
    {
     "name": "stdout",
     "output_type": "stream",
     "text": [
      "                  \n",
      "char:  A\n",
      "                  \n",
      "char:  X\n",
      "                  \n",
      "char:  M\n",
      "                  \n",
      "char:  Y\n",
      "                  \n",
      "char:  B\n",
      "                  \n",
      "char:  N\n",
      "                  \n",
      "char:  Z\n",
      "                  \n",
      "char:  C\n",
      "                  \n",
      "char:  O\n",
      "                  \n",
      "char:  0\n",
      "                  \n",
      "char:  D\n",
      "                  \n",
      "char:  P\n",
      "                  \n",
      "char:  1\n",
      "                  \n",
      "char:  E\n",
      "                  \n",
      "char:  Q\n",
      "                  \n",
      "char:  2\n",
      "                  \n",
      "char:  F\n",
      "                  \n",
      "char:  R\n",
      "                  \n",
      "char:  3\n",
      "                  \n",
      "char:  G\n",
      "                  \n",
      "char:  S\n",
      "                  \n",
      "char:  4\n",
      "                  \n",
      "char:  H\n",
      "                  \n",
      "char:  T\n",
      "                  \n",
      "char:  5\n",
      "                  \n",
      "char:  I\n",
      "                  \n",
      "char:  U\n",
      "                  \n",
      "char:  6\n",
      "                  \n",
      "char:  J\n",
      "                  \n",
      "char:  7\n",
      "                  \n",
      "char:  V\n",
      "                  \n",
      "char:  K\n",
      "                  \n",
      "char:  8\n",
      "                  \n",
      "char:  W\n",
      "                  \n",
      "char:  L\n",
      "                  \n",
      "char:  9\n"
     ]
    }
   ],
   "source": [
    "# AXMYBNZCO0DP1EQ2FR3GS4HT5IU6J7VK8WL9\n",
    "left_list = []\n",
    "for i in range(coordinate_train.shape[1]):\n",
    "    left_list.append(coordinate_train[2][i])\n",
    "feature_list = []\n",
    "sorted_left_list = sorted(range(len(left_list)), key=lambda k: left_list[k])\n",
    "iterater = 0\n",
    "for i in sorted_left_list:\n",
    "    top = coordinate_train[0][i]\n",
    "    buttom = coordinate_train[1][i]\n",
    "    left = coordinate_train[2][i]\n",
    "    right = coordinate_train[3][i]\n",
    "    \n",
    "    sub_image = train_img[top:buttom,left:right]\n",
    "    print(\"                  \")\n",
    "    print(\"char: \", train_seq[iterater])\n",
    "    feature = []\n",
    "    for j in range(FEATURE_LENGTH):\n",
    "        feature.append(spatial_moment(sub_image, parameter[j][0], parameter[j][1]) / spatial_moment(sub_image, parameter[j][2], parameter[j][3]))\n",
    "    #print(np.array(feature).reshape(FEATURE_LENGTH,1))\n",
    "    feature_list.append(np.array(feature).reshape(FEATURE_LENGTH,1))\n",
    "    #print(feature_list[0].shape)\n",
    "    #print(abs(top-buttom)/abs(left-right))\n",
    "    iterater+=1\n",
    "    #cv2.imshow('My Image', sub_image)\n",
    "    #cv2.waitKey(0)\n",
    "    #cv2.destroyAllWindows()\n",
    "feature_np = np.stack(feature_list, axis=0).squeeze(2)"
   ]
  },
  {
   "cell_type": "code",
   "execution_count": 20,
   "metadata": {},
   "outputs": [
    {
     "name": "stdout",
     "output_type": "stream",
     "text": [
      "(36, 10)\n"
     ]
    }
   ],
   "source": [
    "print(feature_np.shape)"
   ]
  },
  {
   "cell_type": "code",
   "execution_count": 21,
   "metadata": {},
   "outputs": [],
   "source": [
    "# sample2: 100\n",
    "# sample3: 60\n",
    "# sample4: 120"
   ]
  },
  {
   "cell_type": "code",
   "execution_count": 22,
   "metadata": {},
   "outputs": [],
   "source": [
    "def char_characteristic(image, threshold, invert=False):\n",
    "    binarize_sample = threshold_binarize(image, threshold)\n",
    "    if invert:\n",
    "        binarize_sample = inverter(binarize_sample)\n",
    "    result, coordinate  = connected_components(binarize_sample)\n",
    "    coordinate = coordinate.astype(int)\n",
    "    left_list = []\n",
    "    for i in range(coordinate.shape[1]):\n",
    "        left_list.append(coordinate[2][i])\n",
    "\n",
    "    sorted_left_list = sorted(range(len(left_list)), key=lambda k: left_list[k])\n",
    "\n",
    "    for i in sorted_left_list:\n",
    "\n",
    "        top = coordinate[0][i]\n",
    "        buttom = coordinate[1][i]\n",
    "        left = coordinate[2][i]\n",
    "        right = coordinate[3][i]\n",
    "        sub_image = binarize_sample[top:buttom,left:right]\n",
    "        if np.sum(sub_image==0)<=400:\n",
    "            continue\n",
    "        print(\" \")\n",
    "        feature = []\n",
    "        for j in range(FEATURE_LENGTH):\n",
    "            feature.append(spatial_moment(sub_image, parameter[j][0], parameter[j][1]) / spatial_moment(sub_image, parameter[j][2], parameter[j][3]))\n",
    "        feature = np.array(feature).reshape(1,FEATURE_LENGTH)\n",
    "        prediction = feature_compare(feature_np, feature)\n",
    "        print(index2char[prediction])\n",
    "        \n",
    "\n",
    "        #print(abs(top-buttom)/abs(left-right))\n",
    "        #cv2.imshow('My Image', sub_image)\n",
    "        #cv2.waitKey(0)\n",
    "        #cv2.destroyAllWindows()"
   ]
  },
  {
   "cell_type": "code",
   "execution_count": 23,
   "metadata": {
    "scrolled": false
   },
   "outputs": [
    {
     "name": "stdout",
     "output_type": "stream",
     "text": [
      "initialize a unique number to each 255-pixel...\n",
      "finding component...\n",
      "counting component size...\n",
      "finding the position of the rectangle's corner...\n",
      "drawing...\n",
      " \n",
      "E\n",
      " \n",
      "D\n",
      " \n",
      "O\n",
      " \n",
      "O\n",
      " \n",
      "O\n",
      " \n",
      "8\n",
      " \n",
      "8\n"
     ]
    }
   ],
   "source": [
    "char_characteristic(sample2, 100)"
   ]
  },
  {
   "cell_type": "code",
   "execution_count": 24,
   "metadata": {
    "scrolled": true
   },
   "outputs": [
    {
     "name": "stdout",
     "output_type": "stream",
     "text": [
      "initialize a unique number to each 255-pixel...\n",
      "finding component...\n",
      "counting component size...\n",
      "finding the position of the rectangle's corner...\n",
      "drawing...\n",
      " \n",
      "K\n",
      " \n",
      "Q\n",
      " \n",
      "8\n",
      " \n",
      "8\n",
      " \n",
      "W\n",
      " \n",
      "6\n",
      " \n",
      "S\n"
     ]
    }
   ],
   "source": [
    "char_characteristic(sample3, 60)"
   ]
  },
  {
   "cell_type": "code",
   "execution_count": 25,
   "metadata": {
    "scrolled": false
   },
   "outputs": [
    {
     "name": "stdout",
     "output_type": "stream",
     "text": [
      "initialize a unique number to each 255-pixel...\n",
      "finding component...\n",
      "counting component size...\n",
      "finding the position of the rectangle's corner...\n",
      "drawing...\n",
      " \n",
      "K\n",
      " \n",
      "A\n",
      " \n",
      "S\n",
      " \n",
      "V\n",
      " \n",
      "8\n",
      " \n",
      "O\n",
      " \n",
      "8\n"
     ]
    }
   ],
   "source": [
    "char_characteristic(sample4, 120, invert=True)"
   ]
  },
  {
   "cell_type": "code",
   "execution_count": null,
   "metadata": {},
   "outputs": [],
   "source": []
  }
 ],
 "metadata": {
  "kernelspec": {
   "display_name": "Python 3",
   "language": "python",
   "name": "python3"
  },
  "language_info": {
   "codemirror_mode": {
    "name": "ipython",
    "version": 3
   },
   "file_extension": ".py",
   "mimetype": "text/x-python",
   "name": "python",
   "nbconvert_exporter": "python",
   "pygments_lexer": "ipython3",
   "version": "3.6.10"
  }
 },
 "nbformat": 4,
 "nbformat_minor": 4
}
