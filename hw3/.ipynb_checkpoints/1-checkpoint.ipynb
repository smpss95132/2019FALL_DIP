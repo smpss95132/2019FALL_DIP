{
 "cells": [
  {
   "cell_type": "code",
   "execution_count": 12,
   "metadata": {},
   "outputs": [],
   "source": [
    "import numpy as np\n",
    "import cv2\n",
    "import random"
   ]
  },
  {
   "cell_type": "code",
   "execution_count": 13,
   "metadata": {},
   "outputs": [],
   "source": [
    "def drawing(label):\n",
    "    result = np.zeros(label.shape, dtype=np.uint8)\n",
    "    H, W = label.shape\n",
    "    \n",
    "    mapping = {0:0, 1:128, 2:255}\n",
    "    \n",
    "    for h in range(H):\n",
    "        for w in range(W):\n",
    "            result[h][w] = mapping[label[h][w]]\n",
    "    \n",
    "    return result"
   ]
  },
  {
   "cell_type": "code",
   "execution_count": 14,
   "metadata": {},
   "outputs": [],
   "source": [
    "def get_label0(mean_list, feature):\n",
    "    num_label = len(mean_list)\n",
    "    \n",
    "    label = 0\n",
    "    min_diff = np.sum((feature - mean_list[0])**2)\n",
    "    \n",
    "    for i in range(1, num_label):\n",
    "        temp_diff = np.sum((feature - mean_list[i])**2)\n",
    "        if temp_diff < min_diff:\n",
    "            label = i\n",
    "            min_diff = temp_diff\n",
    "            \n",
    "    return label"
   ]
  },
  {
   "cell_type": "code",
   "execution_count": 15,
   "metadata": {},
   "outputs": [],
   "source": [
    "def get_label(mean_list, feature):\n",
    "    num_label = len(mean_list)\n",
    "    \n",
    "    label = 0\n",
    "    min_diff = np.sum(np.absolute(feature - mean_list[0]))\n",
    "    \n",
    "    for i in range(1, num_label):\n",
    "        temp_diff = np.sum(np.absolute(feature - mean_list[i]))\n",
    "        if temp_diff < min_diff:\n",
    "            label = i\n",
    "            min_diff = temp_diff\n",
    "            \n",
    "    return label"
   ]
  },
  {
   "cell_type": "code",
   "execution_count": 16,
   "metadata": {},
   "outputs": [],
   "source": [
    "def K_means(stacked_energy_matrix, category):\n",
    "    H, W, C = stacked_energy_matrix.shape\n",
    "    \n",
    "    # initialize all pixel to label 0\n",
    "    labels = np.zeros((H, W), dtype=int)\n",
    "    \n",
    "    # initialize k-means center by random choose k point\n",
    "    center_list = []\n",
    "    \n",
    "    # random initialize\n",
    "    for i in range(category):\n",
    "        random_h = random.randint(0,H-1) \n",
    "        random_w = random.randint(0,W-1)\n",
    "        center_list.append(stacked_energy_matrix[random_h][random_w])\n",
    "    '''\n",
    "    # initilalize by three specific point\n",
    "    center_list.append(stacked_energy_matrix[H-1][W-1])\n",
    "    center_list.append(stacked_energy_matrix[H//2][W//2])\n",
    "    center_list.append(stacked_energy_matrix[0][0])\n",
    "    '''\n",
    "    label_has_changed = True\n",
    "    epoch = 0 \n",
    "    while label_has_changed:\n",
    "        #print(epoch)\n",
    "        if epoch==10:\n",
    "            break\n",
    "        label_has_changed = False\n",
    "        \n",
    "        # initialize center accumulator\n",
    "        center_accumulator_list = []\n",
    "        for center in center_list:\n",
    "            center_accumulator_list.append(np.zeros(center.shape))\n",
    "        counter = [0] * category  \n",
    "        \n",
    "        # do one iteration\n",
    "        for h in range(H):\n",
    "            for w in range(W):\n",
    "                temp_label = get_label(center_list, stacked_energy_matrix[h][w])\n",
    "                if temp_label != labels[h][w]:\n",
    "                    labels[h][w] = temp_label\n",
    "                    label_has_changed = True\n",
    "                counter[labels[h][w]] += 1\n",
    "                center_accumulator_list[labels[h][w]] += stacked_energy_matrix[h][w]\n",
    "                \n",
    "        # update centers    \n",
    "        for i in range(category):\n",
    "            center_list[i] = center_accumulator_list[i] / counter[i]\n",
    "            \n",
    "        epoch+=1\n",
    "                    \n",
    "    return labels"
   ]
  },
  {
   "cell_type": "code",
   "execution_count": 17,
   "metadata": {},
   "outputs": [],
   "source": [
    "def matrix_normalized(matrix):\n",
    "    return (matrix - np.min(matrix))/(np.max(matrix)-np.min(matrix))"
   ]
  },
  {
   "cell_type": "code",
   "execution_count": 18,
   "metadata": {},
   "outputs": [],
   "source": [
    "def Law_conv(image):\n",
    "    L3 = (1/6) * np.array([1,2,1]).reshape(1,3)\n",
    "    E3 = (1/2) * np.array([-1,0,1]).reshape(1,3)\n",
    "    S3 = (1/2) * np.array([1,-2,1]).reshape(1,3)\n",
    "    basis_mask = [L3, E3, S3]\n",
    "    \n",
    "    result_list = []\n",
    "    for kernel_index in range(9):\n",
    "        result = np.zeros(image.shape)\n",
    "        padded_image = cv2.copyMakeBorder(image,1,1,1,1,cv2.BORDER_REFLECT)\n",
    "        \n",
    "        kernel = np.matmul(np.transpose(basis_mask[int(kernel_index/3)]),basis_mask[kernel_index%3])\n",
    "        print(\"Processing kernel: \", kernel_index)\n",
    "        for i in range(1,padded_image.shape[0]-1):\n",
    "            for j in range(1,padded_image.shape[1]-1):\n",
    "                result[i-1][j-1] = np.sum(padded_image[i-1:i+2,j-1:j+2] * kernel)\n",
    "                \n",
    "        result_list.append(result)\n",
    "    \n",
    "    return result_list\n",
    "    "
   ]
  },
  {
   "cell_type": "code",
   "execution_count": 19,
   "metadata": {},
   "outputs": [],
   "source": [
    "def energy_computation(microstructure_arrays, window_size):\n",
    "    result_list = []\n",
    "    p = (window_size-1) // 2\n",
    "    \n",
    "    for microstructure_array in microstructure_arrays:\n",
    "        result = np.zeros(microstructure_array.shape)\n",
    "        padded_image = cv2.copyMakeBorder(microstructure_array,p,p,p,p,cv2.BORDER_REFLECT)\n",
    "        \n",
    "        for i in range(p,padded_image.shape[0]-p):\n",
    "            for j in range(p,padded_image.shape[1]-p):\n",
    "                result[i-p][j-p] = np.sum(padded_image[i-p:i+p+1,j-p:j+p+1])**2\n",
    "                \n",
    "        result_list.append(result)\n",
    "                \n",
    "    return result_list"
   ]
  },
  {
   "cell_type": "code",
   "execution_count": 20,
   "metadata": {},
   "outputs": [],
   "source": [
    "def Law_method(image):\n",
    "    print(\"Evaluating microstructure arrays...\")\n",
    "    microstructure_arrays = Law_conv(image)\n",
    "    print(\"Evaluating energy arrays...\")\n",
    "    energy_arrays = energy_computation(microstructure_arrays, window_size=15)\n",
    "    print(\"Normalizing energy arrays...\")\n",
    "    normalize_energy_array = []\n",
    "    for energy_array in energy_arrays:\n",
    "        normalize_energy_array.append(matrix_normalized(energy_array))\n",
    "    stacked_energy_array = np.stack(normalize_energy_array, axis = 2)\n",
    "    print(\"Doing K means...\")\n",
    "    labels = K_means(stacked_energy_array, category=3)\n",
    "    print(\"Drawing segmentation image...\")\n",
    "    result_image = drawing(labels)\n",
    "    \n",
    "    return result_image"
   ]
  },
  {
   "cell_type": "code",
   "execution_count": 21,
   "metadata": {
    "scrolled": true
   },
   "outputs": [
    {
     "name": "stdout",
     "output_type": "stream",
     "text": [
      "Evaluating microstructure arrays...\n",
      "Processing kernel:  0\n",
      "Processing kernel:  1\n",
      "Processing kernel:  2\n",
      "Processing kernel:  3\n",
      "Processing kernel:  4\n",
      "Processing kernel:  5\n",
      "Processing kernel:  6\n",
      "Processing kernel:  7\n",
      "Processing kernel:  8\n",
      "Evaluating energy arrays...\n",
      "Normalizing energy arrays...\n",
      "Doing K means...\n",
      "Drawing segmentation image...\n"
     ]
    }
   ],
   "source": [
    "img = cv2.imread('sample1.jpg', cv2.IMREAD_GRAYSCALE)\n",
    "result_image = Law_method(img)\n",
    "\n",
    "cv2.imshow('My Image', result_image)\n",
    "cv2.waitKey(0)\n",
    "cv2.destroyAllWindows()"
   ]
  },
  {
   "cell_type": "code",
   "execution_count": 22,
   "metadata": {
    "scrolled": true
   },
   "outputs": [
    {
     "data": {
      "text/plain": [
       "True"
      ]
     },
     "execution_count": 22,
     "metadata": {},
     "output_type": "execute_result"
    }
   ],
   "source": [
    "cv2.imwrite(\"result_random2.jpg\", result_image)"
   ]
  }
 ],
 "metadata": {
  "kernelspec": {
   "display_name": "Python 3",
   "language": "python",
   "name": "python3"
  },
  "language_info": {
   "codemirror_mode": {
    "name": "ipython",
    "version": 3
   },
   "file_extension": ".py",
   "mimetype": "text/x-python",
   "name": "python",
   "nbconvert_exporter": "python",
   "pygments_lexer": "ipython3",
   "version": "3.6.10"
  }
 },
 "nbformat": 4,
 "nbformat_minor": 4
}
