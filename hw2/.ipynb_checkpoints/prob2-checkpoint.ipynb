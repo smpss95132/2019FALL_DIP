{
 "cells": [
  {
   "cell_type": "code",
   "execution_count": 1,
   "metadata": {},
   "outputs": [],
   "source": [
    "import cv2\n",
    "import numpy as np\n",
    "import math"
   ]
  },
  {
   "cell_type": "code",
   "execution_count": 2,
   "metadata": {},
   "outputs": [],
   "source": [
    "def bilinear(x, y):\n",
    "    p = int(x)\n",
    "    q = int(y)\n",
    "    \n",
    "    a = x - p\n",
    "    b = y - q\n",
    "    \n",
    "    return p,q,a,b"
   ]
  },
  {
   "cell_type": "code",
   "execution_count": 3,
   "metadata": {},
   "outputs": [],
   "source": [
    "def Geometrical_transformation_scale(img, tx, ty, scale):\n",
    "    img_height, img_width = img.shape\n",
    "    img_to_Cartesian = np.array([[ 1, 0,           -0.5],\n",
    "                                 [ 0,-1, img_height+0.5],\n",
    "                                 [ 0, 0,              1]],dtype = float)\n",
    "\n",
    "    Cartesian_to_img = np.array([[ 1, 0,            0.5],\n",
    "                                 [ 0,-1, img_height+0.5],\n",
    "                                 [ 0, 0,              1]],dtype = float)\n",
    "    \n",
    "    \n",
    "    transform = np.array([[scale,     0,  tx],\n",
    "                          [    0, scale, -ty],\n",
    "                          [    0,     0,   1]],dtype = float)\n",
    "    \n",
    "    geometrical_matrix = np.matmul(transform, img_to_Cartesian)\n",
    "    geometrical_matrix = np.matmul(Cartesian_to_img, geometrical_matrix)\n",
    "    geometrical_matrix_inverse = np.linalg.inv(geometrical_matrix)\n",
    "    \n",
    "    new_coordinate = np.ones((3,img_height*img_width), dtype=float)\n",
    "    x_axis = np.array([1]*img_width, dtype = int).reshape(img_width)\n",
    "    y_axis = np.array(list(range(0, img_width)), dtype = int).reshape(img_width)\n",
    "    #print(x_axis.shape)\n",
    "    for i in range(img_height):\n",
    "        new_coordinate[0, i*img_width:(i+1)*img_width] = x_axis * i\n",
    "        new_coordinate[1, i*img_width:(i+1)*img_width] = y_axis\n",
    "        \n",
    "    old_coordinate = np.matmul(geometrical_matrix_inverse, new_coordinate)\n",
    "    \n",
    "    result = np.zeros(img.shape, dtype='uint8')\n",
    "    for i in range(img.shape[0]):\n",
    "        for j in range(img.shape[1]):\n",
    "            old_axis_index = i * img_width + j\n",
    "            old_x = old_coordinate[0][old_axis_index]\n",
    "            old_y = old_coordinate[1][old_axis_index]\n",
    "            \n",
    "            if (old_x<0 or old_y<0) or (old_x>img.shape[0]-2 or old_y>img.shape[1]-2):\n",
    "                result[i][j] = 0\n",
    "            else:\n",
    "                p,q,a,b = bilinear(old_x, old_y)\n",
    "                result[i][j] = (1-a)*(1-b)*img[p][q] + (1-a)*b*img[p][q+1] + a*(1-b)*img[p+1][q] + a*b*img[p+1][q+1]\n",
    "            \n",
    "    return result"
   ]
  },
  {
   "cell_type": "code",
   "execution_count": 8,
   "metadata": {},
   "outputs": [],
   "source": [
    "def geometrical_sin_wave(img):\n",
    "    img_height, img_width = img.shape\n",
    "    img_to_Cartesian = np.array([[ 1, 0,           -0.5],\n",
    "                                 [ 0,-1, img_height+0.5],\n",
    "                                 [ 0, 0,              1]],dtype = float)\n",
    "\n",
    "    Cartesian_to_img = np.array([[ 1, 0,            0.5],\n",
    "                                 [ 0,-1, img_height+0.5],\n",
    "                                 [ 0, 0,              1]],dtype = float)\n",
    "    \n",
    "    new_coordinate = np.ones((3,img_height*img_width), dtype=float)\n",
    "    x_axis = np.array([1]*img_width, dtype = int).reshape(img_width)\n",
    "    y_axis = np.array(list(range(0, img_width)), dtype = int).reshape(img_width)\n",
    "    for i in range(img_height):\n",
    "        new_coordinate[0, i*img_width:(i+1)*img_width] = x_axis * i\n",
    "        new_coordinate[1, i*img_width:(i+1)*img_width] = y_axis\n",
    "        \n",
    "    cartesian_coordinate = np.matmul(img_to_Cartesian, new_coordinate)\n",
    "    \n",
    "    for i in range(cartesian_coordinate.shape[1]):\n",
    "        temp_x = cartesian_coordinate[0][i]\n",
    "        temp_y = cartesian_coordinate[1][i]\n",
    "        cartesian_coordinate[0][i] = cartesian_coordinate[0][i] - 40*math.sin((2*math.pi*temp_y)/128+0.1*math.pi)\n",
    "        cartesian_coordinate[1][i] = cartesian_coordinate[1][i] - 60*math.sin((2*math.pi*temp_x)/300+1.2*math.pi)\n",
    "    \n",
    "    old_coordinate = np.matmul(Cartesian_to_img, cartesian_coordinate)\n",
    "    \n",
    "    result = np.zeros(img.shape, dtype='uint8')\n",
    "    for i in range(img.shape[0]):\n",
    "        for j in range(img.shape[1]):\n",
    "            old_axis_index = i * img_width + j\n",
    "            old_x = old_coordinate[0][old_axis_index]\n",
    "            old_y = old_coordinate[1][old_axis_index]\n",
    "            \n",
    "            if (old_x<0 or old_y<0) or (old_x>img.shape[0]-2 or old_y>img.shape[1]-2):\n",
    "                result[i][j] = 0\n",
    "            else:\n",
    "                p,q,a,b = bilinear(old_x, old_y)\n",
    "                result[i][j] = (1-a)*(1-b)*img[p][q] + (1-a)*b*img[p][q+1] + a*(1-b)*img[p+1][q] + a*b*img[p+1][q+1]\n",
    "            \n",
    "    return result\n"
   ]
  },
  {
   "cell_type": "code",
   "execution_count": 5,
   "metadata": {},
   "outputs": [],
   "source": [
    "# Problem2(a)\n",
    "img = cv2.imread('sample3.jpg', cv2.IMREAD_GRAYSCALE)\n",
    "result5 = Geometrical_transformation_scale(img, img.shape[0]/3-350, img.shape[1]/3+480, 1.8)\n",
    "cv2.imwrite('result5.jpg', result5)\n",
    "cv2.imshow('My Image', result5)\n",
    "cv2.waitKey(0)\n",
    "cv2.destroyAllWindows()"
   ]
  },
  {
   "cell_type": "code",
   "execution_count": 9,
   "metadata": {},
   "outputs": [],
   "source": [
    "# Problem2(b)\n",
    "img = cv2.imread('sample5.jpg', cv2.IMREAD_GRAYSCALE)\n",
    "result6 = geometrical_sin_wave(img)\n",
    "cv2.imwrite('result6.jpg', result6)\n",
    "cv2.imshow('My Image', result6)\n",
    "cv2.waitKey(0)\n",
    "cv2.destroyAllWindows()"
   ]
  }
 ],
 "metadata": {
  "kernelspec": {
   "display_name": "Python 3",
   "language": "python",
   "name": "python3"
  },
  "language_info": {
   "codemirror_mode": {
    "name": "ipython",
    "version": 3
   },
   "file_extension": ".py",
   "mimetype": "text/x-python",
   "name": "python",
   "nbconvert_exporter": "python",
   "pygments_lexer": "ipython3",
   "version": "3.6.10"
  }
 },
 "nbformat": 4,
 "nbformat_minor": 4
}
