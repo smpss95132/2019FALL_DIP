{
 "cells": [
  {
   "cell_type": "code",
   "execution_count": 16,
   "metadata": {},
   "outputs": [],
   "source": [
    "import cv2\n",
    "import numpy as np\n",
    "import math"
   ]
  },
  {
   "cell_type": "code",
   "execution_count": 17,
   "metadata": {},
   "outputs": [],
   "source": [
    "def bilinear(x, y):\n",
    "    p = int(x)\n",
    "    q = int(y)\n",
    "    \n",
    "    a = x - p\n",
    "    b = y - q\n",
    "    \n",
    "    return p,q,a,b"
   ]
  },
  {
   "cell_type": "code",
   "execution_count": 23,
   "metadata": {},
   "outputs": [],
   "source": [
    "origin_coordinate = [[5,0],[0,0],[8,0],[0,10],[10,5],[0,6],[10,10],[9,10],[6,10],[5,10],[7.5,9],[4,0],[3,10],[0,7],[0,4],[0,1]]\n",
    "result_coordinate = [[5,2],[2,1],[8,0],[9,3],[10,5],[1.5,5.5],[9,7],[9,10],[6,9],[5,10],[7,10],[3.5,1.5],[3,8],[1,7],[1,4],[2,3]]"
   ]
  },
  {
   "cell_type": "code",
   "execution_count": 24,
   "metadata": {},
   "outputs": [],
   "source": [
    "control_point = np.zeros((16,16), dtype=float)"
   ]
  },
  {
   "cell_type": "code",
   "execution_count": 27,
   "metadata": {},
   "outputs": [],
   "source": [
    "for i in range(len(origin_coordinate)):\n",
    "    for x in range(4):\n",
    "        for y in range(4):\n",
    "            control_point[4*x+y][i] = (origin_coordinate[i][0]**x) * (origin_coordinate[i][1]**y)"
   ]
  },
  {
   "cell_type": "code",
   "execution_count": 34,
   "metadata": {},
   "outputs": [],
   "source": [
    "origin_matrix = np.transpose(np.array(origin_coordinate))"
   ]
  },
  {
   "cell_type": "code",
   "execution_count": 35,
   "metadata": {},
   "outputs": [],
   "source": [
    "result_matrix = np.transpose(np.array(result_coordinate))"
   ]
  },
  {
   "cell_type": "code",
   "execution_count": 32,
   "metadata": {},
   "outputs": [],
   "source": [
    "poly = np.matmul(result_matrix,np.linalg.pinv(control_point))"
   ]
  },
  {
   "cell_type": "code",
   "execution_count": 36,
   "metadata": {},
   "outputs": [
    {
     "data": {
      "text/plain": [
       "array([[5.00000000e+00, 1.89569351e+00, 8.00000000e+00, 8.90611890e+00,\n",
       "        1.00000000e+01, 8.84494731e-01, 8.87242640e+00, 9.20073644e+00,\n",
       "        6.07176042e+00, 4.67986963e+00, 7.00000000e+00, 3.50000000e+00,\n",
       "        3.21306576e+00, 1.53319389e+00, 1.09275280e+00, 2.14988750e+00],\n",
       "       [2.00000000e+00, 1.58521923e+00, 2.66915379e-11, 3.21368906e+00,\n",
       "        5.00000000e+00, 5.99158888e+00, 7.59028951e+00, 8.95495868e+00,\n",
       "        1.00626443e+01, 9.59843678e+00, 1.00000000e+01, 1.50000000e+00,\n",
       "        7.71147563e+00, 6.20236436e+00, 4.57654756e+00, 2.01278597e+00]])"
      ]
     },
     "execution_count": 36,
     "metadata": {},
     "output_type": "execute_result"
    }
   ],
   "source": [
    "np.matmul(poly,control_point)"
   ]
  },
  {
   "cell_type": "code",
   "execution_count": null,
   "metadata": {},
   "outputs": [],
   "source": []
  },
  {
   "cell_type": "code",
   "execution_count": null,
   "metadata": {},
   "outputs": [],
   "source": [
    "def Geometrical_transformation1(img, tx, ty, scale):\n",
    "    img_height, img_width = img.shape\n",
    "    img_to_Cartesian = np.array([[ 1, 0,           -0.5],\n",
    "                                 [ 0,-1, img_height+0.5],\n",
    "                                 [ 0, 0,              1]],dtype = float)\n",
    "\n",
    "    Cartesian_to_img = np.array([[ 1, 0,            0.5],\n",
    "                                 [ 0,-1, img_height+0.5],\n",
    "                                 [ 0, 0,              1]],dtype = float)\n",
    "    \n",
    "    \n",
    "    transform = np.array([[scale,     0,  tx],\n",
    "                          [    0, scale, -ty],\n",
    "                          [    0,     0,   1]],dtype = float)\n",
    "    \n",
    "    geometrical_matrix = np.matmul(transform, img_to_Cartesian)\n",
    "    geometrical_matrix = np.matmul(Cartesian_to_img, geometrical_matrix)\n",
    "    geometrical_matrix_inverse = np.linalg.inv(geometrical_matrix)\n",
    "    \n",
    "    new_coordinate = np.ones((3,img_height*img_width), dtype=float)\n",
    "    x_axis = np.array([1]*img_width, dtype = int).reshape(img_width)\n",
    "    y_axis = np.array(list(range(0, img_width)), dtype = int).reshape(img_width)\n",
    "    #print(x_axis.shape)\n",
    "    for i in range(img_height):\n",
    "        new_coordinate[0, i*img_width:(i+1)*img_width] = x_axis * i\n",
    "        new_coordinate[1, i*img_width:(i+1)*img_width] = y_axis\n",
    "        \n",
    "    old_coordinate = np.matmul(geometrical_matrix_inverse, new_coordinate)\n",
    "    \n",
    "    result = np.zeros(img.shape, dtype='uint8')\n",
    "    for i in range(img.shape[0]):\n",
    "        for j in range(img.shape[1]):\n",
    "            old_axis_index = i * img_width + j\n",
    "            old_x = old_coordinate[0][old_axis_index]\n",
    "            old_y = old_coordinate[1][old_axis_index]\n",
    "            \n",
    "            if (old_x<0 or old_y<0) or (old_x>img.shape[0]-2 or old_y>img.shape[1]-2):\n",
    "                result[i][j] = 0\n",
    "            else:\n",
    "                p,q,a,b = bilinear(old_x, old_y)\n",
    "                result[i][j] = (1-a)*(1-b)*img[p][q] + (1-a)*b*img[p][q+1] + a*(1-b)*img[p+1][q] + a*b*img[p+1][q+1]\n",
    "            \n",
    "    return result"
   ]
  },
  {
   "cell_type": "code",
   "execution_count": null,
   "metadata": {},
   "outputs": [],
   "source": []
  },
  {
   "cell_type": "code",
   "execution_count": null,
   "metadata": {},
   "outputs": [],
   "source": []
  },
  {
   "cell_type": "code",
   "execution_count": null,
   "metadata": {},
   "outputs": [],
   "source": []
  },
  {
   "cell_type": "code",
   "execution_count": null,
   "metadata": {},
   "outputs": [],
   "source": []
  },
  {
   "cell_type": "code",
   "execution_count": 30,
   "metadata": {},
   "outputs": [
    {
     "name": "stdout",
     "output_type": "stream",
     "text": [
      "(16, 16)\n",
      "(2, 16)\n"
     ]
    }
   ],
   "source": [
    "print(control_point.shape)\n",
    "print(result_matrix.shape)"
   ]
  },
  {
   "cell_type": "code",
   "execution_count": 28,
   "metadata": {},
   "outputs": [
    {
     "name": "stdout",
     "output_type": "stream",
     "text": [
      "[[1.00000000e+00 1.00000000e+00 1.00000000e+00 1.00000000e+00\n",
      "  1.00000000e+00 1.00000000e+00 1.00000000e+00 1.00000000e+00\n",
      "  1.00000000e+00 1.00000000e+00 1.00000000e+00 1.00000000e+00\n",
      "  1.00000000e+00 1.00000000e+00 1.00000000e+00 1.00000000e+00]\n",
      " [0.00000000e+00 0.00000000e+00 0.00000000e+00 1.00000000e+01\n",
      "  5.00000000e+00 6.00000000e+00 1.00000000e+01 1.00000000e+01\n",
      "  1.00000000e+01 1.00000000e+01 9.00000000e+00 0.00000000e+00\n",
      "  1.00000000e+01 7.00000000e+00 4.00000000e+00 1.00000000e+00]\n",
      " [0.00000000e+00 0.00000000e+00 0.00000000e+00 1.00000000e+02\n",
      "  2.50000000e+01 3.60000000e+01 1.00000000e+02 1.00000000e+02\n",
      "  1.00000000e+02 1.00000000e+02 8.10000000e+01 0.00000000e+00\n",
      "  1.00000000e+02 4.90000000e+01 1.60000000e+01 1.00000000e+00]\n",
      " [0.00000000e+00 0.00000000e+00 0.00000000e+00 1.00000000e+03\n",
      "  1.25000000e+02 2.16000000e+02 1.00000000e+03 1.00000000e+03\n",
      "  1.00000000e+03 1.00000000e+03 7.29000000e+02 0.00000000e+00\n",
      "  1.00000000e+03 3.43000000e+02 6.40000000e+01 1.00000000e+00]\n",
      " [5.00000000e+00 0.00000000e+00 8.00000000e+00 0.00000000e+00\n",
      "  1.00000000e+01 0.00000000e+00 1.00000000e+01 9.00000000e+00\n",
      "  6.00000000e+00 5.00000000e+00 7.50000000e+00 4.00000000e+00\n",
      "  3.00000000e+00 0.00000000e+00 0.00000000e+00 0.00000000e+00]\n",
      " [0.00000000e+00 0.00000000e+00 0.00000000e+00 0.00000000e+00\n",
      "  5.00000000e+01 0.00000000e+00 1.00000000e+02 9.00000000e+01\n",
      "  6.00000000e+01 5.00000000e+01 6.75000000e+01 0.00000000e+00\n",
      "  3.00000000e+01 0.00000000e+00 0.00000000e+00 0.00000000e+00]\n",
      " [0.00000000e+00 0.00000000e+00 0.00000000e+00 0.00000000e+00\n",
      "  2.50000000e+02 0.00000000e+00 1.00000000e+03 9.00000000e+02\n",
      "  6.00000000e+02 5.00000000e+02 6.07500000e+02 0.00000000e+00\n",
      "  3.00000000e+02 0.00000000e+00 0.00000000e+00 0.00000000e+00]\n",
      " [0.00000000e+00 0.00000000e+00 0.00000000e+00 0.00000000e+00\n",
      "  1.25000000e+03 0.00000000e+00 1.00000000e+04 9.00000000e+03\n",
      "  6.00000000e+03 5.00000000e+03 5.46750000e+03 0.00000000e+00\n",
      "  3.00000000e+03 0.00000000e+00 0.00000000e+00 0.00000000e+00]\n",
      " [2.50000000e+01 0.00000000e+00 6.40000000e+01 0.00000000e+00\n",
      "  1.00000000e+02 0.00000000e+00 1.00000000e+02 8.10000000e+01\n",
      "  3.60000000e+01 2.50000000e+01 5.62500000e+01 1.60000000e+01\n",
      "  9.00000000e+00 0.00000000e+00 0.00000000e+00 0.00000000e+00]\n",
      " [0.00000000e+00 0.00000000e+00 0.00000000e+00 0.00000000e+00\n",
      "  5.00000000e+02 0.00000000e+00 1.00000000e+03 8.10000000e+02\n",
      "  3.60000000e+02 2.50000000e+02 5.06250000e+02 0.00000000e+00\n",
      "  9.00000000e+01 0.00000000e+00 0.00000000e+00 0.00000000e+00]\n",
      " [0.00000000e+00 0.00000000e+00 0.00000000e+00 0.00000000e+00\n",
      "  2.50000000e+03 0.00000000e+00 1.00000000e+04 8.10000000e+03\n",
      "  3.60000000e+03 2.50000000e+03 4.55625000e+03 0.00000000e+00\n",
      "  9.00000000e+02 0.00000000e+00 0.00000000e+00 0.00000000e+00]\n",
      " [0.00000000e+00 0.00000000e+00 0.00000000e+00 0.00000000e+00\n",
      "  1.25000000e+04 0.00000000e+00 1.00000000e+05 8.10000000e+04\n",
      "  3.60000000e+04 2.50000000e+04 4.10062500e+04 0.00000000e+00\n",
      "  9.00000000e+03 0.00000000e+00 0.00000000e+00 0.00000000e+00]\n",
      " [1.25000000e+02 0.00000000e+00 5.12000000e+02 0.00000000e+00\n",
      "  1.00000000e+03 0.00000000e+00 1.00000000e+03 7.29000000e+02\n",
      "  2.16000000e+02 1.25000000e+02 4.21875000e+02 6.40000000e+01\n",
      "  2.70000000e+01 0.00000000e+00 0.00000000e+00 0.00000000e+00]\n",
      " [0.00000000e+00 0.00000000e+00 0.00000000e+00 0.00000000e+00\n",
      "  5.00000000e+03 0.00000000e+00 1.00000000e+04 7.29000000e+03\n",
      "  2.16000000e+03 1.25000000e+03 3.79687500e+03 0.00000000e+00\n",
      "  2.70000000e+02 0.00000000e+00 0.00000000e+00 0.00000000e+00]\n",
      " [0.00000000e+00 0.00000000e+00 0.00000000e+00 0.00000000e+00\n",
      "  2.50000000e+04 0.00000000e+00 1.00000000e+05 7.29000000e+04\n",
      "  2.16000000e+04 1.25000000e+04 3.41718750e+04 0.00000000e+00\n",
      "  2.70000000e+03 0.00000000e+00 0.00000000e+00 0.00000000e+00]\n",
      " [0.00000000e+00 0.00000000e+00 0.00000000e+00 0.00000000e+00\n",
      "  1.25000000e+05 0.00000000e+00 1.00000000e+06 7.29000000e+05\n",
      "  2.16000000e+05 1.25000000e+05 3.07546875e+05 0.00000000e+00\n",
      "  2.70000000e+04 0.00000000e+00 0.00000000e+00 0.00000000e+00]]\n"
     ]
    }
   ],
   "source": [
    "print(control_point)"
   ]
  },
  {
   "cell_type": "code",
   "execution_count": null,
   "metadata": {},
   "outputs": [],
   "source": []
  },
  {
   "cell_type": "code",
   "execution_count": 19,
   "metadata": {},
   "outputs": [],
   "source": [
    "img = cv2.imread('sample7.jpg', cv2.IMREAD_GRAYSCALE)"
   ]
  },
  {
   "cell_type": "code",
   "execution_count": 20,
   "metadata": {
    "scrolled": true
   },
   "outputs": [],
   "source": [
    "result = geometrical_sin_wave1(img)"
   ]
  },
  {
   "cell_type": "code",
   "execution_count": 22,
   "metadata": {},
   "outputs": [
    {
     "data": {
      "text/plain": [
       "True"
      ]
     },
     "execution_count": 22,
     "metadata": {},
     "output_type": "execute_result"
    }
   ],
   "source": [
    "cv2.imwrite('result8.jpg', result)"
   ]
  },
  {
   "cell_type": "code",
   "execution_count": 21,
   "metadata": {},
   "outputs": [],
   "source": [
    "cv2.imshow('My Image', result)\n",
    "cv2.waitKey(0)\n",
    "cv2.destroyAllWindows()"
   ]
  }
 ],
 "metadata": {
  "kernelspec": {
   "display_name": "Python 3",
   "language": "python",
   "name": "python3"
  },
  "language_info": {
   "codemirror_mode": {
    "name": "ipython",
    "version": 3
   },
   "file_extension": ".py",
   "mimetype": "text/x-python",
   "name": "python",
   "nbconvert_exporter": "python",
   "pygments_lexer": "ipython3",
   "version": "3.6.10"
  }
 },
 "nbformat": 4,
 "nbformat_minor": 4
}
