{
 "cells": [
  {
   "cell_type": "code",
   "execution_count": 1,
   "metadata": {},
   "outputs": [],
   "source": [
    "import math\n",
    "import cv2\n",
    "import numpy as np"
   ]
  },
  {
   "cell_type": "code",
   "execution_count": 2,
   "metadata": {},
   "outputs": [],
   "source": [
    "# K = 1, Prewitt edge detector\n",
    "# K = 2, Sobel edge detector\n",
    "def first_order_edge_detection(image, threshold, K):\n",
    "    result = np.zeros(image.shape,dtype = 'uint8')\n",
    "    padded_image = cv2.copyMakeBorder(image,1,1,1,1,cv2.BORDER_REFLECT)\n",
    "    padded_image = padded_image.astype(int)\n",
    "    \n",
    "    mask_1 = np.array([[-1, 0, 1],\n",
    "                       [-K, 0, K],\n",
    "                       [-1, 0, 1]],dtype = int)\n",
    "    \n",
    "    mask_2 = np.array([[ 1, K, 1],\n",
    "                       [ 0, 0, 0],\n",
    "                       [-1,-K,-1]],dtype = int)\n",
    "    \n",
    "\n",
    "    \n",
    "    for i in range(1,padded_image.shape[0]-1):\n",
    "        for j in range(1,padded_image.shape[1]-1):\n",
    "            Gr = (1/(K+2)) * np.sum(padded_image[i-1:i+2,j-1:j+2] * mask_1)\n",
    "            Gc = (1/(K+2)) * np.sum(padded_image[i-1:i+2,j-1:j+2] * mask_2)\n",
    "            \n",
    "            gradient = math.sqrt(Gr * Gr + Gc * Gc)\n",
    "            if(gradient >= threshold):\n",
    "                result[i-1][j-1] = 255\n",
    "                \n",
    "    return result"
   ]
  },
  {
   "cell_type": "code",
   "execution_count": 3,
   "metadata": {},
   "outputs": [],
   "source": [
    "# Laplacian_of_Gaussian\n",
    "def second_order_edge_detection(image,threshold):\n",
    "    mask_result = np.zeros(image.shape, dtype = int)\n",
    "    result = np.zeros(image.shape, dtype = 'uint8')\n",
    "    \n",
    "    \n",
    "    padded_image = cv2.copyMakeBorder(image,5,5,5,5,cv2.BORDER_REFLECT)\n",
    "    padded_image = padded_image.astype(int)\n",
    "    \n",
    "    mask = np.array([[  0,  0,  0, -1, -1, -2, -1, -1,  0,  0,  0],\n",
    "                     [  0,  0, -2, -4, -8, -9, -8, -4, -2,  0,  0],\n",
    "                     [  0, -2, -7,-15,-22,-23,-22,-15, -7, -2,  0],\n",
    "                     [ -1, -4,-15,-24,-14, -1,-14,-24,-15, -4, -1],\n",
    "                     [ -1, -8,-22,-14, 52,103, 52,-14,-22, -8, -1],\n",
    "                     [ -2, -9,-23, -1,103,178,103, -1,-23, -9, -2],\n",
    "                     [ -1, -8,-22,-14, 52,103, 52,-14,-22, -8, -1],\n",
    "                     [ -1, -4,-15,-24,-14, -1,-14,-24,-15, -4, -1],\n",
    "                     [  0, -2, -7,-15,-22,-23,-22,-15, -7, -2,  0],\n",
    "                     [  0,  0, -2, -4, -8, -9, -8, -4, -2,  0,  0],\n",
    "                     [  0,  0,  0, -1, -1, -2, -1, -1,  0,  0,  0]],dtype = int)\n",
    "    \n",
    "    for i in range(5,padded_image.shape[0]-5):\n",
    "        for j in range(5,padded_image.shape[1]-5):\n",
    "            gradient = np.sum(padded_image[i-5:i+6,j-5:j+6] * mask)\n",
    "            if gradient >= threshold:\n",
    "                mask_result[i-5][j-5] = 1\n",
    "            if gradient <= threshold*(-1):\n",
    "                mask_result[i-5][j-5] = -1\n",
    "                \n",
    "    padded_mask_result = cv2.copyMakeBorder(mask_result,1,1,1,1,cv2.BORDER_REFLECT)\n",
    "    padded_mask_result = padded_mask_result.astype(int)\n",
    "    around_list = [[-1,-1],[-1,0],[-1,1],[0,1]]\n",
    "    for i in range(1,padded_mask_result.shape[0]-1):\n",
    "        for j in range(1,padded_mask_result.shape[1]-1):\n",
    "            if padded_mask_result[i][j]==0:\n",
    "                for k in range(len(around_list)):\n",
    "                    if padded_mask_result[i + around_list[k][0]][j + around_list[k][1]] * padded_mask_result[i - around_list[k][0]][j - around_list[k][1]] == -1:\n",
    "                        result[i-1][j-1] = 255\n",
    "                        break\n",
    "                        \n",
    "    return result"
   ]
  },
  {
   "cell_type": "code",
   "execution_count": 4,
   "metadata": {},
   "outputs": [],
   "source": [
    "def Gaussian_noise_remove(image):\n",
    "    result = np.zeros(image.shape, dtype='uint8')\n",
    "    padded_image = cv2.copyMakeBorder(image,2,2,2,2,cv2.BORDER_REFLECT)\n",
    "    padded_image = padded_image.astype(int)\n",
    "    \n",
    "    mask = np.array([[ 2, 4, 5, 4, 2],\n",
    "                     [ 4, 9,12, 9, 4],\n",
    "                     [ 5,12,15,12, 5],\n",
    "                     [ 4, 9,12, 9, 4],\n",
    "                     [ 2, 4, 5, 4, 2]],dtype = int)\n",
    "    \n",
    "    for i in range(2,padded_image.shape[0]-2):\n",
    "        for j in range(2,padded_image.shape[1]-2):\n",
    "            result[i-2][j-2] = int((1/159) * np.sum(padded_image[i-2:i+3,j-2:j+3] * mask))\n",
    "                \n",
    "    return result"
   ]
  },
  {
   "cell_type": "code",
   "execution_count": 5,
   "metadata": {},
   "outputs": [],
   "source": [
    "def Sobel_gradient_direction(image):\n",
    "    gradient_matrix = np.zeros(image.shape,dtype = float)\n",
    "    direction_matrix = np.zeros(image.shape,dtype = float)\n",
    "    \n",
    "    padded_image = cv2.copyMakeBorder(image,1,1,1,1,cv2.BORDER_REFLECT)\n",
    "    padded_image = padded_image.astype(int)\n",
    "    \n",
    "    mask_1 = np.array([[-1, 0, 1],\n",
    "                       [-1, 0, 1],\n",
    "                       [-1, 0, 1]],dtype = int)\n",
    "    \n",
    "    mask_2 = np.array([[ 1, 1, 1],\n",
    "                       [ 0, 0, 0],\n",
    "                       [-1,-1,-1]],dtype = int)\n",
    "    \n",
    "\n",
    "    \n",
    "    for i in range(1,padded_image.shape[0]-1):\n",
    "        for j in range(1,padded_image.shape[1]-1):\n",
    "            Gr = (1/(4)) * np.sum(padded_image[i-1:i+2,j-1:j+2] * mask_1)\n",
    "            Gc = (1/(4)) * np.sum(padded_image[i-1:i+2,j-1:j+2] * mask_2)\n",
    "            \n",
    "            gradient = math.sqrt(Gr * Gr + Gc * Gc)\n",
    "            direction_matrix[i-1][j-1] = math.atan(Gc/Gr)\n",
    "            gradient_matrix[i-1][j-1] = gradient\n",
    "                \n",
    "    return gradient_matrix, direction_matrix"
   ]
  },
  {
   "cell_type": "code",
   "execution_count": 6,
   "metadata": {},
   "outputs": [],
   "source": [
    "def Check_neighbor(direction):\n",
    "    if direction >= 0:\n",
    "        if direction >= (1/2)*math.pi - (1/8)*math.pi:\n",
    "            return [-1,0]\n",
    "        elif direction >= (1/4)*math.pi - (1/8)*math.pi:\n",
    "            return [-1,1]\n",
    "        else:\n",
    "            return [0,1]\n",
    "    else:\n",
    "        if direction >= -1*(1/4)*math.pi + (1/8)*math.pi:\n",
    "            return [0,1]\n",
    "        elif direction >= -1*(1/2)*math.pi + (1/8)*math.pi:\n",
    "            return [-1,1]\n",
    "        else:\n",
    "            return [-1,0]"
   ]
  },
  {
   "cell_type": "code",
   "execution_count": 7,
   "metadata": {},
   "outputs": [],
   "source": [
    "def Non_maximal_suppression(gradient_matrix, direction_matrix):\n",
    "    result_gradient = np.zeros(gradient_matrix.shape,dtype = float)\n",
    "    \n",
    "    for i in range(1, gradient_matrix.shape[0]-1):\n",
    "        for j in range(1, gradient_matrix.shape[1]-1):\n",
    "            gradient_value = gradient_matrix[i][j]\n",
    "            if gradient_value=='nan':\n",
    "                continue\n",
    "            neighbor_shift = Check_neighbor(direction_matrix[i][j])\n",
    "            first_neighbor = gradient_matrix[i+neighbor_shift[0]][j+neighbor_shift[1]]\n",
    "            second_neighbor = gradient_matrix[i-neighbor_shift[0]][j-neighbor_shift[1]]\n",
    "            if (gradient_value>first_neighbor) and (gradient_value>second_neighbor):\n",
    "                result_gradient[i][j] = gradient_value\n",
    "                \n",
    "    return result_gradient"
   ]
  },
  {
   "cell_type": "code",
   "execution_count": 8,
   "metadata": {},
   "outputs": [],
   "source": [
    "def Hysteretic_thresholding(gradient_matrix, T_high, T_low):\n",
    "    result = np.zeros(gradient_matrix.shape,dtype = int)\n",
    "    \n",
    "    for i in range(gradient_matrix.shape[0]):\n",
    "        for j in range(gradient_matrix.shape[1]):\n",
    "            if gradient_matrix[i][j] > T_high:\n",
    "                result[i][j] = 2\n",
    "            elif gradient_matrix[i][j] > T_low:\n",
    "                result[i][j] = 1\n",
    "            else:\n",
    "                result[i][j] = 0\n",
    "                \n",
    "    return result"
   ]
  },
  {
   "cell_type": "code",
   "execution_count": 9,
   "metadata": {},
   "outputs": [],
   "source": [
    "def Connected_component_labeling(hysteretic):\n",
    "    result = np.zeros(hysteretic.shape, dtype = 'uint8')\n",
    "    padded_hysteretic = cv2.copyMakeBorder(hysteretic, 1, 1, 1, 1, cv2.BORDER_CONSTANT, value=0)\n",
    "    \n",
    "    for i in range(1, padded_hysteretic.shape[0]-1):\n",
    "        for j in range(1, padded_hysteretic.shape[1]-1):\n",
    "            if padded_hysteretic[i][j]==2:\n",
    "                result[i-1][j-1] = 255\n",
    "            elif padded_hysteretic[i][j]==1:\n",
    "                if padded_hysteretic[i-1][j]==2 or padded_hysteretic[i][j-1]==2:\n",
    "                    result[i-1][j-1] = 255\n",
    "                    padded_hysteretic[i][j] = 2\n",
    "                    \n",
    "    for i in range(padded_hysteretic.shape[0]-2, 0, -1):\n",
    "        for j in range(padded_hysteretic.shape[1]-2, 0, -1):\n",
    "            if padded_hysteretic[i][j]==2:\n",
    "                result[i-1][j-1] = 255\n",
    "            elif padded_hysteretic[i][j]==1:\n",
    "                if padded_hysteretic[i+1][j]==2 or padded_hysteretic[i][j+1]==2:\n",
    "                    result[i-1][j-1] = 255\n",
    "                    padded_hysteretic[i][j] = 2\n",
    "                    \n",
    "    return result"
   ]
  },
  {
   "cell_type": "code",
   "execution_count": 10,
   "metadata": {},
   "outputs": [],
   "source": [
    "def Canny_edge_detector(image):\n",
    "    # Step1: noise reduction\n",
    "    denoise_image = Gaussian_noise_remove(image)\n",
    "    \n",
    "    # Step2: compute gragient magnitude & orientation\n",
    "    gradient_magnitude, gradient_direction = Sobel_gradient_direction(denoise_image)\n",
    "    \n",
    "    # Step3: Non-maximal suppression\n",
    "    gradient_matrix = Non_maximal_suppression(gradient_magnitude, gradient_direction)\n",
    "    \n",
    "    # Step4: Hysteretic thresholding\n",
    "    hysteretic = Hysteretic_thresholding(gradient_matrix, 10, 30)\n",
    "    \n",
    "    # Step5: Connected component labeling method\n",
    "    result = Connected_component_labeling(hysteretic)\n",
    "    \n",
    "    return result"
   ]
  },
  {
   "cell_type": "code",
   "execution_count": 11,
   "metadata": {},
   "outputs": [],
   "source": [
    "def Edge_crispening(img, c, b):\n",
    "    FL = np.zeros(img.shape, dtype = float)\n",
    "    \n",
    "    padded_image = cv2.copyMakeBorder(img,1,1,1,1,cv2.BORDER_REFLECT)\n",
    "    padded_image = padded_image.astype(int)\n",
    "    \n",
    "    mask = np.array([[  1,   b,  1],\n",
    "                     [  b, b*b,  b],\n",
    "                     [  1,   b,  1]],dtype = int)\n",
    "        \n",
    "    for i in range(1,padded_image.shape[0]-1):\n",
    "        for j in range(1,padded_image.shape[1]-1):\n",
    "            FL[i-1][j-1] = np.sum(padded_image[i-1:i+2,j-1:j+2] * mask)\n",
    "            \n",
    "    FL = (1/((b+2)*(b+2))) * FL\n",
    "            \n",
    "    result = (c/(2*c-1))*img - ((1-c)/(2*c-1))*FL\n",
    "    result = result.astype('uint8')\n",
    "    \n",
    "    return result"
   ]
  },
  {
   "cell_type": "code",
   "execution_count": 12,
   "metadata": {},
   "outputs": [],
   "source": [
    "# Problem1(a)\n",
    "img = cv2.imread('sample1.jpg', cv2.IMREAD_GRAYSCALE)"
   ]
  },
  {
   "cell_type": "code",
   "execution_count": 13,
   "metadata": {},
   "outputs": [],
   "source": [
    "# first_order\n",
    "result1 = first_order_edge_detection(img, 30, 2)\n",
    "cv2.imwrite('result1.jpg', result1)\n",
    "cv2.imshow('My Image', result1)\n",
    "cv2.waitKey(0)\n",
    "cv2.destroyAllWindows()"
   ]
  },
  {
   "cell_type": "code",
   "execution_count": 18,
   "metadata": {},
   "outputs": [],
   "source": [
    "# second_order\n",
    "result2 = second_order_edge_detection(img,6000)\n",
    "cv2.imwrite('result2.jpg', result2)\n",
    "cv2.imshow('My Image', result2)\n",
    "cv2.waitKey(0)\n",
    "cv2.destroyAllWindows()"
   ]
  },
  {
   "cell_type": "code",
   "execution_count": 19,
   "metadata": {},
   "outputs": [
    {
     "name": "stderr",
     "output_type": "stream",
     "text": [
      "/home/zxcvbn7222/anaconda3/lib/python3.6/site-packages/ipykernel_launcher.py:24: RuntimeWarning: invalid value encountered in double_scalars\n",
      "/home/zxcvbn7222/anaconda3/lib/python3.6/site-packages/ipykernel_launcher.py:24: RuntimeWarning: divide by zero encountered in double_scalars\n"
     ]
    }
   ],
   "source": [
    "# Canny\n",
    "result3 = Canny_edge_detector(img)\n",
    "cv2.imwrite('result3.jpg', result3)\n",
    "cv2.imshow('My Image', result3)\n",
    "cv2.waitKey(0)\n",
    "cv2.destroyAllWindows()"
   ]
  },
  {
   "cell_type": "code",
   "execution_count": 14,
   "metadata": {},
   "outputs": [],
   "source": [
    "# Problem1(b)\n",
    "img = cv2.imread('sample2.jpg', cv2.IMREAD_GRAYSCALE)"
   ]
  },
  {
   "cell_type": "code",
   "execution_count": 15,
   "metadata": {},
   "outputs": [
    {
     "data": {
      "text/plain": [
       "True"
      ]
     },
     "execution_count": 15,
     "metadata": {},
     "output_type": "execute_result"
    }
   ],
   "source": [
    "result4 = Edge_crispening(img, 0.6, 2)\n",
    "cv2.imwrite('result4.jpg', result4)"
   ]
  },
  {
   "cell_type": "code",
   "execution_count": 16,
   "metadata": {},
   "outputs": [],
   "source": [
    "cv2.imshow('My Image', result4)\n",
    "cv2.waitKey(0)\n",
    "cv2.destroyAllWindows()"
   ]
  },
  {
   "cell_type": "code",
   "execution_count": 17,
   "metadata": {},
   "outputs": [
    {
     "name": "stderr",
     "output_type": "stream",
     "text": [
      "/home/zxcvbn7222/anaconda3/lib/python3.6/site-packages/ipykernel_launcher.py:24: RuntimeWarning: invalid value encountered in double_scalars\n",
      "/home/zxcvbn7222/anaconda3/lib/python3.6/site-packages/ipykernel_launcher.py:24: RuntimeWarning: divide by zero encountered in double_scalars\n"
     ]
    },
    {
     "data": {
      "text/plain": [
       "True"
      ]
     },
     "execution_count": 17,
     "metadata": {},
     "output_type": "execute_result"
    }
   ],
   "source": [
    "edge_map_sample2 = Canny_edge_detector(img)\n",
    "cv2.imwrite('edge_map_sample2.jpg', edge_map_sample2)\n",
    "edge_map_result4 = Canny_edge_detector(result4)\n",
    "cv2.imwrite('edge_map_result4.jpg', edge_map_result4)"
   ]
  },
  {
   "cell_type": "code",
   "execution_count": null,
   "metadata": {},
   "outputs": [],
   "source": []
  }
 ],
 "metadata": {
  "kernelspec": {
   "display_name": "Python 3",
   "language": "python",
   "name": "python3"
  },
  "language_info": {
   "codemirror_mode": {
    "name": "ipython",
    "version": 3
   },
   "file_extension": ".py",
   "mimetype": "text/x-python",
   "name": "python",
   "nbconvert_exporter": "python",
   "pygments_lexer": "ipython3",
   "version": "3.6.10"
  }
 },
 "nbformat": 4,
 "nbformat_minor": 4
}
